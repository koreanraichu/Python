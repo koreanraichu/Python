{
 "cells": [
  {
   "cell_type": "code",
   "execution_count": 3,
   "id": "2ccfa0ad-9912-487b-ad39-335cdf494048",
   "metadata": {},
   "outputs": [],
   "source": [
    "from PIL import Image\n",
    "import piexif\n",
    "import os"
   ]
  },
  {
   "cell_type": "code",
   "execution_count": 4,
   "id": "d407b3db-cb7f-4be4-817d-4505dc768d0a",
   "metadata": {},
   "outputs": [],
   "source": [
    "def fix_orientation(image_path):\n",
    "    img = Image.open(image_path)\n",
    "    exif_dict = piexif.load(img.info.get(\"exif\", b\"\"))\n",
    "\n",
    "    orientation = exif_dict[\"0th\"].get(piexif.ImageIFD.Orientation, 1)\n",
    "\n",
    "    # 실제로 회전\n",
    "    if orientation == 3:\n",
    "        img = img.rotate(180, expand=True)\n",
    "    elif orientation == 6:\n",
    "        img = img.rotate(270, expand=True)\n",
    "    elif orientation == 8:\n",
    "        img = img.rotate(90, expand=True)\n",
    "\n",
    "    # 회전 정보 초기화 (정상 방향으로)\n",
    "    exif_dict[\"0th\"][piexif.ImageIFD.Orientation] = 1\n",
    "    exif_bytes = piexif.dump(exif_dict)\n",
    "\n",
    "    img.save(image_path, \"jpeg\", exif=exif_bytes)\n"
   ]
  },
  {
   "cell_type": "code",
   "execution_count": 7,
   "id": "07a34f64-7534-45a2-9381-f220ec84eda1",
   "metadata": {},
   "outputs": [
    {
     "name": "stdout",
     "output_type": "stream",
     "text": [
      "✅ 처리 완료: 2025-06-12 14.47.42.jpg\n",
      "✅ 처리 완료: 2025-06-12 14.44.42.jpg\n",
      "✅ 처리 완료: 2025-06-12 14.31.15.jpg\n",
      "✅ 처리 완료: 2025-06-12 14.46.28.jpg\n",
      "✅ 처리 완료: 2025-06-12 14.51.15.jpg\n",
      "✅ 처리 완료: 2025-06-12 14.46.50.jpg\n",
      "✅ 처리 완료: 2025-06-12 18.37.58.jpg\n",
      "✅ 처리 완료: 2025-06-12 14.29.00.jpg\n",
      "✅ 처리 완료: 2025-06-12 14.44.10.jpg\n"
     ]
    }
   ],
   "source": [
    "folder = \"./exifedit\"  # 여기에 이미지 폴더 경로 입력\n",
    "\n",
    "for filename in os.listdir(folder):\n",
    "    if filename.lower().endswith((\".jpg\", \".jpeg\")):\n",
    "        full_path = os.path.join(folder, filename)\n",
    "        try:\n",
    "            fix_orientation(full_path)\n",
    "            print(f\"✅ 처리 완료: {filename}\")\n",
    "        except Exception as e:\n",
    "            print(f\"❌ 오류 발생: {filename} - {e}\")\n"
   ]
  },
  {
   "cell_type": "code",
   "execution_count": null,
   "id": "adbf9b2e-9ffc-4536-8367-b45fb71d3a4f",
   "metadata": {},
   "outputs": [],
   "source": []
  }
 ],
 "metadata": {
  "kernelspec": {
   "display_name": "Python 3 (ipykernel)",
   "language": "python",
   "name": "python3"
  },
  "language_info": {
   "codemirror_mode": {
    "name": "ipython",
    "version": 3
   },
   "file_extension": ".py",
   "mimetype": "text/x-python",
   "name": "python",
   "nbconvert_exporter": "python",
   "pygments_lexer": "ipython3",
   "version": "3.12.7"
  }
 },
 "nbformat": 4,
 "nbformat_minor": 5
}
